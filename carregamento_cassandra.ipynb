{
 "cells": [
  {
   "cell_type": "code",
   "execution_count": null,
   "metadata": {},
   "outputs": [],
   "source": [
    "%scala\n",
    "import org.apache.spark.sql.functions._\n",
    "import com.datastax.spark.connector._\n",
    "import org.apache.spark.sql.cassandra._\n",
    "import spark.implicits._\n",
    "\n",
    "val dbName = spark.sparkContext.getConf.get(\"spark.database.name\")\n",
    "val keyspace = spark.sparkContext.getConf.get(\"spark.keyspace.name\")\n",
    "\n",
    "spark.conf.set(s\"spark.sql.catalog.$dbName\", \"com.datastax.spark.connector.datasource.CassandraCatalog\")\n",
    "spark.sql(s\"use $dbName.$keyspace\")\n",
    "\n",
    "val video_trends_table = spark.sql(\"select * from df_final_c\")\n",
    "\n",
    "video_trends_table.createCassandraTable(keyspace, \"video_trends\")\n",
    "\n",
    "video_trends_table.write.cassandraFormat(\"video_trends\", keyspace).mode(\"append\").save()\n",
    "spark.sql(\"show tables\").show()\n",
    "\n",
    "val data = sc.cassandraTable(keyspace, \"video_trends\")\n",
    "\n",
    "data.count()"
   ]
  },
  {
   "cell_type": "code",
   "execution_count": null,
   "metadata": {},
   "outputs": [],
   "source": [
    "%scala\n",
    "import org.apache.spark.sql.functions._\n",
    "import com.datastax.spark.connector._\n",
    "import org.apache.spark.sql.cassandra._\n",
    "import spark.implicits._\n",
    "import com.datastax.spark.connector.cql.ClusteringColumn\n",
    "\n",
    "val dbName = spark.sparkContext.getConf.get(\"spark.database.name\")\n",
    "val keyspace = spark.sparkContext.getConf.get(\"spark.keyspace.name\")\n",
    "\n",
    "spark.conf.set(s\"spark.sql.catalog.$dbName\", \"com.datastax.spark.connector.datasource.CassandraCatalog\")\n",
    "spark.sql(s\"use $dbName.$keyspace\")\n",
    "\n",
    "val video_trends_table = spark.sql(\"select * from df_final_c\")\n",
    "\n",
    "video_trends_table.createCassandraTableEx(keyspace, \"video_trends_language_category\", Seq(\"language\", \"category\"), Seq((\"views\", ClusteringColumn.Descending), (\"trending_days\", ClusteringColumn.Descending)))\n",
    "\n",
    "video_trends_table.write.cassandraFormat(\"video_trends_language_category\", keyspace).mode(\"append\").save()\n",
    "spark.sql(\"show tables\").show()\n",
    "\n",
    "val data = sc.cassandraTable(keyspace, \"video_trends_language_category\")\n",
    "\n",
    "data.count()"
   ]
  }
 ],
 "metadata": {
  "language_info": {
   "name": "python"
  },
  "orig_nbformat": 4
 },
 "nbformat": 4,
 "nbformat_minor": 2
}
